{
 "cells": [
  {
   "cell_type": "markdown",
   "id": "8456f277-4d74-411a-a531-9026bf87df4e",
   "metadata": {
    "pycharm": {
     "name": "#%% md\n"
    },
    "tags": []
   },
   "source": [
    "# Monkey portfolios"
   ]
  },
  {
   "cell_type": "code",
   "execution_count": 3,
   "id": "4c0c4e74",
   "metadata": {
    "collapsed": false,
    "jupyter": {
     "outputs_hidden": false
    },
    "pycharm": {
     "name": "#%%\n"
    }
   },
   "outputs": [],
   "source": [
    "import pandas as pd\n",
    "import numpy as np"
   ]
  },
  {
   "cell_type": "code",
   "execution_count": null,
   "outputs": [],
   "source": [
    "# Get rid of findfont: Font family 'Arial' not found.\n",
    "# when running a remote notebook on Jupyter Server on Ubuntu Linux server\n",
    "import logging\n",
    "logging.getLogger(\"matplotlib.font_manager\").setLevel(logging.ERROR)"
   ],
   "metadata": {
    "collapsed": false,
    "pycharm": {
     "name": "#%%\n"
    }
   }
  },
  {
   "cell_type": "code",
   "execution_count": null,
   "outputs": [],
   "source": [
    "from cvx.simulator.builder import builder\n",
    "pd.options.plotting.backend = \"plotly\""
   ],
   "metadata": {
    "collapsed": false,
    "pycharm": {
     "name": "#%%\n"
    }
   }
  },
  {
   "cell_type": "code",
   "execution_count": null,
   "outputs": [],
   "source": [
    "prices=pd.read_csv(\"data/stock_prices.csv\", header=0, index_col=0, parse_dates=True)"
   ],
   "metadata": {
    "collapsed": false,
    "pycharm": {
     "name": "#%%\n"
    }
   }
  },
  {
   "cell_type": "code",
   "execution_count": null,
   "outputs": [],
   "source": [
    "b = builder(prices=prices, initial_cash=1e6)\n",
    "\n",
    "np.random.seed(42)\n",
    "for time, state in b:\n",
    "    n = len(b.assets)\n",
    "    w = np.random.rand(n)\n",
    "    # normalize the weights\n",
    "    w = w/np.sum(w)\n",
    "    \n",
    "    assert np.all(w >= 0)\n",
    "    assert np.allclose(np.sum(w), 1)\n",
    "\n",
    "    # convert weights into shares\n",
    "    shares = w / state.prices\n",
    "\n",
    "    # multiply the shares with the current nav\n",
    "    b[time[-1]] = state.nav * pd.Series(index=b.assets, data=shares)"
   ],
   "metadata": {
    "collapsed": false,
    "pycharm": {
     "name": "#%%\n"
    }
   }
  },
  {
   "cell_type": "code",
   "execution_count": null,
   "outputs": [],
   "source": [
    "portfolio = b.build()\n",
    "a=portfolio.profit.cumsum()\n",
    "portfolio.plots()\n"
   ],
   "metadata": {
    "collapsed": false,
    "pycharm": {
     "name": "#%%\n"
    }
   }
  },
  {
   "cell_type": "code",
   "execution_count": null,
   "outputs": [],
   "source": [
    "b = builder(prices=prices, initial_cash=1e6)\n",
    "\n",
    "np.random.seed(42)\n",
    "for time, state in b:\n",
    "    n = len(b.assets)\n",
    "    w = np.random.rand(n)\n",
    "    # normalize the weights\n",
    "    w = w/np.sum(w)\n",
    "    \n",
    "    assert np.all(w >= 0)\n",
    "    assert np.allclose(np.sum(w), 1)\n",
    "\n",
    "    # convert weights into shares\n",
    "    shares = w / state.prices\n",
    "\n",
    "    # multiply the shares with a constant portfolio size\n",
    "    b[time[-1]] = 1e6 * pd.Series(index=b.assets, data=shares)"
   ],
   "metadata": {
    "collapsed": false,
    "pycharm": {
     "name": "#%%\n"
    }
   }
  },
  {
   "cell_type": "code",
   "execution_count": null,
   "outputs": [],
   "source": [
    "portfolio = a.build()\n",
    "b=portfolio.profit.cumsum()\n",
    "portfolio.plots()\n"
   ],
   "metadata": {
    "collapsed": false,
    "pycharm": {
     "name": "#%%\n"
    }
   }
  }
 ],
 "metadata": {
  "kernelspec": {
   "display_name": "cvxsimulator",
   "language": "python",
   "name": "cvxsimulator"
  },
  "language_info": {
   "codemirror_mode": {
    "name": "ipython",
    "version": 3
   },
   "file_extension": ".py",
   "mimetype": "text/x-python",
   "name": "python",
   "nbconvert_exporter": "python",
   "pygments_lexer": "ipython3",
   "version": "3.9.7"
  }
 },
 "nbformat": 4,
 "nbformat_minor": 5
}
