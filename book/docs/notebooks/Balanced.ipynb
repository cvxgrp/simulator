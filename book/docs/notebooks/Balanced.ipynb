{
 "cells": [
  {
   "cell_type": "markdown",
   "id": "cb2fa09c-ca24-4b2e-8b21-afb3c232051c",
   "metadata": {},
   "source": [
    "# The 1/n family\n",
    "\n",
    "We play with the $1/n$ portfolio. We start with a vanilla implementation using daily rebalancing.\n",
    "Every portfolio should be the solution of a convex optimization problem, see https://www.linkedin.com/pulse/stock-picking-convex-programs-thomas-schmelzer. We do that and show methods to construct the portfolio with \n",
    "\n",
    "* the minimization of the Euclidean norm of the weights.\n",
    "* the minimization of the $\\infty$ norm of the weights.\n",
    "* and the maximization of the Entropy of the weights.\n",
    "* the minimization of the tracking error to an $1/n$ portfolio.\n",
    "\n",
    "We also play with sparse updates, e.g. rather than rebalancing daily, we act only once the deviation of our drifted portfolio got too large from the target $1/n$ portfolio.\n",
    "\n",
    "This problem has been discussed https://www.linkedin.com/feed/update/urn:li:activity:7149432321388064768/"
   ]
  },
  {
   "cell_type": "code",
   "execution_count": 1,
   "id": "8cf3cc03-42ae-4b67-8961-8cdcea4a4f12",
   "metadata": {},
   "outputs": [
    {
     "ename": "ModuleNotFoundError",
     "evalue": "No module named 'matplotlib'",
     "output_type": "error",
     "traceback": [
      "\u001b[0;31m---------------------------------------------------------------------------\u001b[0m",
      "\u001b[0;31mModuleNotFoundError\u001b[0m                       Traceback (most recent call last)",
      "Cell \u001b[0;32mIn[1], line 9\u001b[0m\n\u001b[1;32m      6\u001b[0m \u001b[38;5;28;01mimport\u001b[39;00m \u001b[38;5;21;01mlogging\u001b[39;00m\n\u001b[1;32m      7\u001b[0m logging\u001b[38;5;241m.\u001b[39mgetLogger(\u001b[38;5;124m\"\u001b[39m\u001b[38;5;124mmatplotlib.font_manager\u001b[39m\u001b[38;5;124m\"\u001b[39m)\u001b[38;5;241m.\u001b[39msetLevel(logging\u001b[38;5;241m.\u001b[39mERROR)\n\u001b[0;32m----> 9\u001b[0m \u001b[38;5;28;01mfrom\u001b[39;00m \u001b[38;5;21;01mcvx\u001b[39;00m\u001b[38;5;21;01m.\u001b[39;00m\u001b[38;5;21;01msimulator\u001b[39;00m \u001b[38;5;28;01mimport\u001b[39;00m Builder\n",
      "File \u001b[0;32m~/github/simulator/cvx/simulator/__init__.py:15\u001b[0m\n\u001b[1;32m      1\u001b[0m \u001b[38;5;66;03m#    Copyright 2023 Stanford University Convex Optimization Group\u001b[39;00m\n\u001b[1;32m      2\u001b[0m \u001b[38;5;66;03m#\u001b[39;00m\n\u001b[1;32m      3\u001b[0m \u001b[38;5;66;03m#    Licensed under the Apache License, Version 2.0 (the \"License\");\u001b[39;00m\n\u001b[0;32m   (...)\u001b[0m\n\u001b[1;32m     12\u001b[0m \u001b[38;5;66;03m#    See the License for the specific language governing permissions and\u001b[39;00m\n\u001b[1;32m     13\u001b[0m \u001b[38;5;66;03m#    limitations under the License.\u001b[39;00m\n\u001b[0;32m---> 15\u001b[0m \u001b[38;5;28;01mfrom\u001b[39;00m \u001b[38;5;21;01mcvx\u001b[39;00m\u001b[38;5;21;01m.\u001b[39;00m\u001b[38;5;21;01msimulator\u001b[39;00m\u001b[38;5;21;01m.\u001b[39;00m\u001b[38;5;21;01mbuilder\u001b[39;00m \u001b[38;5;28;01mimport\u001b[39;00m Builder\n\u001b[1;32m     16\u001b[0m \u001b[38;5;28;01mfrom\u001b[39;00m \u001b[38;5;21;01mcvx\u001b[39;00m\u001b[38;5;21;01m.\u001b[39;00m\u001b[38;5;21;01msimulator\u001b[39;00m\u001b[38;5;21;01m.\u001b[39;00m\u001b[38;5;21;01mportfolio\u001b[39;00m \u001b[38;5;28;01mimport\u001b[39;00m Portfolio\n\u001b[1;32m     17\u001b[0m \u001b[38;5;28;01mfrom\u001b[39;00m \u001b[38;5;21;01mcvx\u001b[39;00m\u001b[38;5;21;01m.\u001b[39;00m\u001b[38;5;21;01msimulator\u001b[39;00m\u001b[38;5;21;01m.\u001b[39;00m\u001b[38;5;21;01mstate\u001b[39;00m \u001b[38;5;28;01mimport\u001b[39;00m State\n",
      "File \u001b[0;32m~/github/simulator/cvx/simulator/builder.py:22\u001b[0m\n\u001b[1;32m     19\u001b[0m \u001b[38;5;28;01mimport\u001b[39;00m \u001b[38;5;21;01mnumpy\u001b[39;00m \u001b[38;5;28;01mas\u001b[39;00m \u001b[38;5;21;01mnp\u001b[39;00m\n\u001b[1;32m     20\u001b[0m \u001b[38;5;28;01mimport\u001b[39;00m \u001b[38;5;21;01mpandas\u001b[39;00m \u001b[38;5;28;01mas\u001b[39;00m \u001b[38;5;21;01mpd\u001b[39;00m\n\u001b[0;32m---> 22\u001b[0m \u001b[38;5;28;01mfrom\u001b[39;00m \u001b[38;5;21;01mcvx\u001b[39;00m\u001b[38;5;21;01m.\u001b[39;00m\u001b[38;5;21;01msimulator\u001b[39;00m\u001b[38;5;21;01m.\u001b[39;00m\u001b[38;5;21;01mportfolio\u001b[39;00m \u001b[38;5;28;01mimport\u001b[39;00m Portfolio\n\u001b[1;32m     23\u001b[0m \u001b[38;5;28;01mfrom\u001b[39;00m \u001b[38;5;21;01mcvx\u001b[39;00m\u001b[38;5;21;01m.\u001b[39;00m\u001b[38;5;21;01msimulator\u001b[39;00m\u001b[38;5;21;01m.\u001b[39;00m\u001b[38;5;21;01mstate\u001b[39;00m \u001b[38;5;28;01mimport\u001b[39;00m State\n\u001b[1;32m     24\u001b[0m \u001b[38;5;28;01mfrom\u001b[39;00m \u001b[38;5;21;01mcvx\u001b[39;00m\u001b[38;5;21;01m.\u001b[39;00m\u001b[38;5;21;01msimulator\u001b[39;00m\u001b[38;5;21;01m.\u001b[39;00m\u001b[38;5;21;01mutils\u001b[39;00m\u001b[38;5;21;01m.\u001b[39;00m\u001b[38;5;21;01minterpolation\u001b[39;00m \u001b[38;5;28;01mimport\u001b[39;00m valid\n",
      "File \u001b[0;32m~/github/simulator/cvx/simulator/portfolio.py:21\u001b[0m\n\u001b[1;32m     18\u001b[0m \u001b[38;5;28;01mfrom\u001b[39;00m \u001b[38;5;21;01mtyping\u001b[39;00m \u001b[38;5;28;01mimport\u001b[39;00m Any\n\u001b[1;32m     20\u001b[0m \u001b[38;5;28;01mimport\u001b[39;00m \u001b[38;5;21;01mpandas\u001b[39;00m \u001b[38;5;28;01mas\u001b[39;00m \u001b[38;5;21;01mpd\u001b[39;00m\n\u001b[0;32m---> 21\u001b[0m \u001b[38;5;28;01mimport\u001b[39;00m \u001b[38;5;21;01mquantstats\u001b[39;00m \u001b[38;5;28;01mas\u001b[39;00m \u001b[38;5;21;01mqs\u001b[39;00m\n\u001b[1;32m     23\u001b[0m \u001b[38;5;28;01mfrom\u001b[39;00m \u001b[38;5;21;01mcvx\u001b[39;00m\u001b[38;5;21;01m.\u001b[39;00m\u001b[38;5;21;01msimulator\u001b[39;00m\u001b[38;5;21;01m.\u001b[39;00m\u001b[38;5;21;01mutils\u001b[39;00m\u001b[38;5;21;01m.\u001b[39;00m\u001b[38;5;21;01mquantstats\u001b[39;00m\u001b[38;5;21;01m.\u001b[39;00m\u001b[38;5;21;01mplot\u001b[39;00m \u001b[38;5;28;01mimport\u001b[39;00m Plot\n\u001b[1;32m     24\u001b[0m \u001b[38;5;28;01mfrom\u001b[39;00m \u001b[38;5;21;01mcvx\u001b[39;00m\u001b[38;5;21;01m.\u001b[39;00m\u001b[38;5;21;01msimulator\u001b[39;00m\u001b[38;5;21;01m.\u001b[39;00m\u001b[38;5;21;01mutils\u001b[39;00m\u001b[38;5;21;01m.\u001b[39;00m\u001b[38;5;21;01mrescale\u001b[39;00m \u001b[38;5;28;01mimport\u001b[39;00m returns2prices\n",
      "File \u001b[0;32m~/github/simulator/.venv/lib/python3.10/site-packages/quantstats/__init__.py:25\u001b[0m\n\u001b[1;32m     22\u001b[0m __version__ \u001b[38;5;241m=\u001b[39m version\u001b[38;5;241m.\u001b[39mversion\n\u001b[1;32m     23\u001b[0m __author__ \u001b[38;5;241m=\u001b[39m \u001b[38;5;124m\"\u001b[39m\u001b[38;5;124mRan Aroussi\u001b[39m\u001b[38;5;124m\"\u001b[39m\n\u001b[0;32m---> 25\u001b[0m \u001b[38;5;28;01mfrom\u001b[39;00m \u001b[38;5;21;01m.\u001b[39;00m \u001b[38;5;28;01mimport\u001b[39;00m stats, utils, plots, reports\n\u001b[1;32m     27\u001b[0m __all__ \u001b[38;5;241m=\u001b[39m [\u001b[38;5;124m\"\u001b[39m\u001b[38;5;124mstats\u001b[39m\u001b[38;5;124m\"\u001b[39m, \u001b[38;5;124m\"\u001b[39m\u001b[38;5;124mplots\u001b[39m\u001b[38;5;124m\"\u001b[39m, \u001b[38;5;124m\"\u001b[39m\u001b[38;5;124mreports\u001b[39m\u001b[38;5;124m\"\u001b[39m, \u001b[38;5;124m\"\u001b[39m\u001b[38;5;124mutils\u001b[39m\u001b[38;5;124m\"\u001b[39m, \u001b[38;5;124m\"\u001b[39m\u001b[38;5;124mextend_pandas\u001b[39m\u001b[38;5;124m\"\u001b[39m]\n\u001b[1;32m     29\u001b[0m \u001b[38;5;66;03m# try automatic matplotlib inline\u001b[39;00m\n",
      "File \u001b[0;32m~/github/simulator/.venv/lib/python3.10/site-packages/quantstats/plots.py:27\u001b[0m\n\u001b[1;32m     24\u001b[0m \u001b[38;5;28;01mexcept\u001b[39;00m \u001b[38;5;167;01mImportError\u001b[39;00m:\n\u001b[1;32m     25\u001b[0m     \u001b[38;5;28;01mpass\u001b[39;00m\n\u001b[0;32m---> 27\u001b[0m \u001b[38;5;28;01mfrom\u001b[39;00m \u001b[38;5;21;01mquantstats\u001b[39;00m\u001b[38;5;21;01m.\u001b[39;00m\u001b[38;5;21;01m_plotting\u001b[39;00m\u001b[38;5;21;01m.\u001b[39;00m\u001b[38;5;21;01mwrappers\u001b[39;00m \u001b[38;5;28;01mimport\u001b[39;00m \u001b[38;5;241m*\u001b[39m\n",
      "File \u001b[0;32m~/github/simulator/.venv/lib/python3.10/site-packages/quantstats/_plotting/wrappers.py:22\u001b[0m\n\u001b[1;32m      1\u001b[0m \u001b[38;5;66;03m#!/usr/bin/env python\u001b[39;00m\n\u001b[1;32m      2\u001b[0m \u001b[38;5;66;03m#\u001b[39;00m\n\u001b[1;32m      3\u001b[0m \u001b[38;5;66;03m# Quantreturns: Portfolio analytics for quants\u001b[39;00m\n\u001b[0;32m   (...)\u001b[0m\n\u001b[1;32m     17\u001b[0m \u001b[38;5;66;03m# See the License for the specific language governing permissions and\u001b[39;00m\n\u001b[1;32m     18\u001b[0m \u001b[38;5;66;03m# limitations under the License.\u001b[39;00m\n\u001b[1;32m     20\u001b[0m \u001b[38;5;28;01mimport\u001b[39;00m \u001b[38;5;21;01mwarnings\u001b[39;00m\n\u001b[0;32m---> 22\u001b[0m \u001b[38;5;28;01mimport\u001b[39;00m \u001b[38;5;21;01mmatplotlib\u001b[39;00m\u001b[38;5;21;01m.\u001b[39;00m\u001b[38;5;21;01mpyplot\u001b[39;00m \u001b[38;5;28;01mas\u001b[39;00m \u001b[38;5;21;01m_plt\u001b[39;00m\n\u001b[1;32m     23\u001b[0m \u001b[38;5;28;01mimport\u001b[39;00m \u001b[38;5;21;01mnumpy\u001b[39;00m \u001b[38;5;28;01mas\u001b[39;00m \u001b[38;5;21;01m_np\u001b[39;00m\n\u001b[1;32m     24\u001b[0m \u001b[38;5;28;01mimport\u001b[39;00m \u001b[38;5;21;01mpandas\u001b[39;00m \u001b[38;5;28;01mas\u001b[39;00m \u001b[38;5;21;01m_pd\u001b[39;00m\n",
      "\u001b[0;31mModuleNotFoundError\u001b[0m: No module named 'matplotlib'"
     ]
    }
   ],
   "source": [
    "import pandas as pd\n",
    "import numpy as np\n",
    "\n",
    "# Get rid of findfont: Font family 'Arial' not found.\n",
    "# when running a remote notebook on Jupyter Server on Ubuntu Linux server\n",
    "import logging\n",
    "logging.getLogger(\"matplotlib.font_manager\").setLevel(logging.ERROR)\n",
    "\n",
    "from cvx.simulator import Builder"
   ]
  },
  {
   "cell_type": "code",
   "execution_count": null,
   "id": "ac55168c-9584-4e01-8dba-861de4d1e728",
   "metadata": {},
   "outputs": [],
   "source": [
    "# load prices from flat csv file\n",
    "prices = pd.read_csv(\"data/stock-prices.csv\", header=0, index_col=0, parse_dates=True)"
   ]
  },
  {
   "cell_type": "code",
   "execution_count": null,
   "id": "b2c0a07c-2920-448e-bd38-c1c54f84da74",
   "metadata": {},
   "outputs": [],
   "source": [
    "# Implement the 1/n portfolio using the Builder\n",
    "builder = Builder(prices=prices, initial_aum=1e6)\n",
    "\n",
    "np.random.seed(42)\n",
    "for _, state in builder:\n",
    "    assets = state.assets\n",
    "    n = len(assets)\n",
    "    builder.weights = np.ones(n)/n\n",
    "    # it's important to also set the aum after setting the weights\n",
    "    # Here one could apply trading costs\n",
    "    # Access via state.trades, etc.\n",
    "    builder.aum = state.aum\n",
    "\n",
    "portfolio = builder.build()"
   ]
  },
  {
   "cell_type": "code",
   "execution_count": null,
   "id": "8d3edc38-14f5-4fad-9878-54fcf5c2f3ec",
   "metadata": {},
   "outputs": [],
   "source": [
    "portfolio.snapshot()"
   ]
  },
  {
   "cell_type": "markdown",
   "id": "f9cf5a42-c74f-4499-ade3-bcf4f4311f8f",
   "metadata": {},
   "source": [
    "## With cvxpy\n",
    "\n",
    "Formulating the problem above as a convex program is most useful when additional constraints have to be reflected.\n",
    "It also helps to link the 1/n portfolio to Tikhonov regularization and interpret its solution as a cornercase for \n",
    "more complex portfolios we are building"
   ]
  },
  {
   "cell_type": "code",
   "execution_count": null,
   "id": "7985ac3a-68b4-4385-9d72-43d790345061",
   "metadata": {},
   "outputs": [],
   "source": [
    "import cvxpy as cp"
   ]
  },
  {
   "cell_type": "markdown",
   "id": "48aa5efd-7ae9-4097-9b33-494444cb7be9",
   "metadata": {},
   "source": [
    "### Minimization of the Euclidean norm\n",
    "\n",
    "We minimize the Euclidean norm of the weight vector. Same results as above but with opten door to the world of convex paradise."
   ]
  },
  {
   "cell_type": "code",
   "execution_count": null,
   "id": "1ccc54e5-5f04-42eb-91b0-1f895fb07f49",
   "metadata": {},
   "outputs": [],
   "source": [
    "builder = Builder(prices=prices, initial_aum=1e6)\n",
    "\n",
    "for _, state in builder:\n",
    "    assets = state.assets\n",
    "    n = len(assets)\n",
    "    weights = cp.Variable(n)\n",
    "    objective = cp.norm(weights, 2)\n",
    "    constraints = [weights >= 0, cp.sum(weights) == 1]\n",
    "    # we are using the new CLARABEL solver\n",
    "    cp.Problem(objective=cp.Minimize(objective), constraints=constraints).solve(solver=cp.CLARABEL)\n",
    "    # update weights & aum as before\n",
    "    builder.weights = weights.value\n",
    "    builder.aum = state.aum\n",
    "\n",
    "portfolio = builder.build()\n",
    "portfolio.snapshot()"
   ]
  },
  {
   "cell_type": "markdown",
   "id": "de9ba5b6-040e-4ac8-bdc9-493111414c5e",
   "metadata": {},
   "source": [
    "### Minimization of the $\\infty$ norm\n",
    "\n",
    "Based on an idea by Vladimir Markov"
   ]
  },
  {
   "cell_type": "code",
   "execution_count": null,
   "id": "b939a5da-03ef-4372-bb10-a30a2c89ca58",
   "metadata": {},
   "outputs": [],
   "source": [
    "builder = Builder(prices=prices, initial_aum=1e6)\n",
    "\n",
    "for _, state in builder:\n",
    "    assets = state.assets\n",
    "    n = len(assets)\n",
    "    weights = cp.Variable(n)\n",
    "    objective = cp.norm_inf(weights)\n",
    "    constraints = [weights >= 0, cp.sum(weights) == 1]\n",
    "    # we are using the new CLARABEL solver\n",
    "    cp.Problem(objective=cp.Minimize(objective), constraints=constraints).solve(solver=cp.CLARABEL)\n",
    "    # update weights & aum as before\n",
    "    builder.weights = weights.value\n",
    "    builder.aum = state.aum\n",
    "\n",
    "portfolio = builder.build()\n",
    "portfolio.snapshot()"
   ]
  },
  {
   "cell_type": "markdown",
   "id": "7f82417a-41b0-4b55-80da-9f476fd8a5a6",
   "metadata": {},
   "source": [
    "### Maximization of the entropy\n",
    "\n",
    "One can also maximize the entropy to arrive at the same result"
   ]
  },
  {
   "cell_type": "code",
   "execution_count": null,
   "id": "11e07007-f9b9-45a7-981a-a8ebc026118e",
   "metadata": {},
   "outputs": [],
   "source": [
    "builder = Builder(prices=prices, initial_aum=1e6)\n",
    "\n",
    "for _, state in builder:\n",
    "    assets = state.assets\n",
    "    n = len(assets)\n",
    "    weights = cp.Variable(n)\n",
    "    objective = cp.sum(cp.entr(weights))\n",
    "    constraints = [weights >= 0, cp.sum(weights) == 1]\n",
    "    cp.Problem(objective=cp.Maximize(objective), constraints=constraints).solve(solver=cp.CLARABEL)\n",
    "    # update weights & aum as before\n",
    "    builder.weights = weights.value\n",
    "    builder.aum = state.aum\n",
    "\n",
    "portfolio = builder.build()\n",
    "portfolio.snapshot()"
   ]
  },
  {
   "cell_type": "markdown",
   "id": "b49a6ef8-eeab-4c26-80b2-a1ab312e187e",
   "metadata": {},
   "source": [
    "### Minimization of the tracking error"
   ]
  },
  {
   "cell_type": "code",
   "execution_count": null,
   "id": "9555ab33-0978-45e1-a480-520192345584",
   "metadata": {},
   "outputs": [],
   "source": [
    "builder = Builder(prices=prices, initial_aum=1e6)\n",
    "\n",
    "for _, state in builder:\n",
    "    assets = state.assets\n",
    "    n = len(assets)\n",
    "    weights = cp.Variable(n)\n",
    "    objective = cp.norm(weights - np.ones(n)/n, 2)\n",
    "    constraints = [weights >= 0, cp.sum(weights) == 1]\n",
    "    cp.Problem(objective=cp.Minimize(objective), constraints=constraints).solve(solver=cp.CLARABEL)\n",
    "    # update weights & aum as before\n",
    "    builder.weights = weights.value\n",
    "    builder.aum = state.aum\n",
    "\n",
    "portfolio = builder.build()\n",
    "portfolio.snapshot()"
   ]
  },
  {
   "cell_type": "markdown",
   "id": "50fcbb8a-47ba-4fba-aa38-836b44fe1a8c",
   "metadata": {},
   "source": [
    "## With sparse updates\n",
    "\n",
    "In practice we do not want to rebalance the portfolio every day. We tolerate our portfolio is not an exact $1/n$ portfolio. We may expect slightly weaker results"
   ]
  },
  {
   "cell_type": "code",
   "execution_count": null,
   "id": "e9b5ebd4-a928-4911-96c7-1f3a912c75e2",
   "metadata": {},
   "outputs": [],
   "source": [
    "builder = Builder(prices=prices, initial_aum=1e6)\n",
    "\n",
    "for _, state in builder:\n",
    "    # assets currently alive, e.g. with a valid price\n",
    "    assets = state.assets\n",
    "    # number of assets currently alive\n",
    "    n = len(assets)\n",
    "\n",
    "    # Assets may drop out...\n",
    "    target = np.ones(n) / n\n",
    "\n",
    "    # the drifted weights for all valid assets\n",
    "    drifted = state.weights[assets].fillna(0.0)\n",
    "\n",
    "    # the delta is the sum of absolute weight changes\n",
    "    delta = (target - drifted).abs().sum()\n",
    "    \n",
    "    if delta > 0.20:\n",
    "        # update the weights of the portfolio, e.g.\n",
    "        # rebalance it and set it all back to 1/n\n",
    "        builder.weights = target\n",
    "    else:\n",
    "        # forward-fill the position \n",
    "        builder.position = state.position\n",
    "        # or\n",
    "        # forward-fill the weights\n",
    "        # builder.weights = drifted\n",
    "        # or\n",
    "        # forward-filil the cashposition\n",
    "        # builider.cashposition = state.cashposition\n",
    "\n",
    "    # update the aum. Before you do that, you have the chance to correct it \n",
    "    # using your estimated trading costs, etc.\n",
    "    builder.aum = state.aum\n",
    "\n",
    "\n",
    "portfolio = builder.build()\n",
    "portfolio.snapshot()"
   ]
  },
  {
   "cell_type": "code",
   "execution_count": null,
   "id": "7069b84d-c9cf-44bd-b47c-db5a7b0e954d",
   "metadata": {},
   "outputs": [],
   "source": []
  }
 ],
 "metadata": {
  "kernelspec": {
   "display_name": "Python 3 (ipykernel)",
   "language": "python",
   "name": "python3"
  },
  "language_info": {
   "codemirror_mode": {
    "name": "ipython",
    "version": 3
   },
   "file_extension": ".py",
   "mimetype": "text/x-python",
   "name": "python",
   "nbconvert_exporter": "python",
   "pygments_lexer": "ipython3",
   "version": "3.10.9"
  }
 },
 "nbformat": 4,
 "nbformat_minor": 5
}
